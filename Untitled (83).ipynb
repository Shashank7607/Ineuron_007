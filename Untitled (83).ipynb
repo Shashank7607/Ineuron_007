{
 "cells": [
  {
   "cell_type": "markdown",
   "id": "a4c549e1-f52b-4c0b-991a-cc03b1705f17",
   "metadata": {},
   "source": [
    "Q.1. What are keywords in python? Using the keyword library, print all the python keywords."
   ]
  },
  {
   "cell_type": "code",
   "execution_count": 1,
   "id": "9597cf57-374d-4e85-8eff-20ab34275d14",
   "metadata": {},
   "outputs": [],
   "source": [
    "# In Python, keywords are reserved words that have special meanings and cannot be used as identifiers (variable names, function names, etc.). These keywords are part of the Python language syntax and are used to define the structure and logic of a program.\n",
    "\n",
    "# You can use the keyword module to get a list of all the keywords in Python and then print them. Here's an example:"
   ]
  },
  {
   "cell_type": "code",
   "execution_count": 2,
   "id": "8dae789e-abd5-4756-b26c-f06602115719",
   "metadata": {},
   "outputs": [
    {
     "name": "stdout",
     "output_type": "stream",
     "text": [
      "Python Keywords:\n",
      "['False', 'None', 'True', 'and', 'as', 'assert', 'async', 'await', 'break', 'class', 'continue', 'def', 'del', 'elif', 'else', 'except', 'finally', 'for', 'from', 'global', 'if', 'import', 'in', 'is', 'lambda', 'nonlocal', 'not', 'or', 'pass', 'raise', 'return', 'try', 'while', 'with', 'yield']\n"
     ]
    }
   ],
   "source": [
    "import keyword\n",
    "\n",
    "# Get a list of all Python keywords\n",
    "python_keywords = keyword.kwlist\n",
    "\n",
    "# Print the list of keywords\n",
    "print(\"Python Keywords:\")\n",
    "print(python_keywords)\n"
   ]
  },
  {
   "cell_type": "markdown",
   "id": "0a3449d0-81a8-4546-9ff8-3dad6b973cfa",
   "metadata": {},
   "source": [
    "Q.2. What are the rules to create variables in python?"
   ]
  },
  {
   "cell_type": "code",
   "execution_count": 3,
   "id": "ec4f9ddc-30de-4eb4-b7a4-a32c421403a1",
   "metadata": {},
   "outputs": [],
   "source": [
    "# In Python, variables are used to store and represent data. Here are the rules for creating variables in Python:\n",
    "\n",
    "# 1.Variable Name Rules:\n",
    "\n",
    "# Variable names can only contain letters (a-z, A-Z), numbers (0-9), and underscores (_).\n",
    "# They cannot start with a number.\n",
    "# Python is case-sensitive, so myVariable and myvariable are different variables.\n",
    "# 2.Reserved Words:\n",
    "\n",
    "# Avoid using Python keywords as variable names. For example, you cannot use words like if, else, while, for, def, class, etc., as variable names.\n",
    "# 3.Avoid Special Characters:\n",
    "\n",
    "# Special characters such as !, @, #, $, %, etc., are not allowed in variable names.\n",
    "# 4.Meaningful Names:\n",
    "\n",
    "# Choose variable names that are meaningful and describe the data they hold. This makes your code more readable and understandable.\n",
    "# 5.No Spaces:\n",
    "\n",
    "# Variable names cannot contain spaces. Use underscores to separate words, like my_variable instead of my variable.\n",
    "# 6.Conventions:\n",
    "\n",
    "# It's a convention in Python to use snake_case for variable names (e.g., my_variable, user_age). Snake case is a style where words are written in lowercase and separated by underscores.\n",
    "# 7.Avoid Single-letter Names:\n",
    "\n",
    "# Except for simple loop counters, try to avoid using single-letter variable names. Use names that indicate the purpose of the variable.\n",
    "# Here's an example of creating and using variables following these rules:"
   ]
  },
  {
   "cell_type": "markdown",
   "id": "e748bee1-b45d-45de-a411-ef555896567d",
   "metadata": {},
   "source": [
    "Q.3. What are the standards and conventions followed for the nomenclature of variables in\n",
    "python to improve code readability and maintainability?"
   ]
  },
  {
   "cell_type": "code",
   "execution_count": 6,
   "id": "a6bf10d6-f507-4486-b3dd-154c267c8c75",
   "metadata": {},
   "outputs": [],
   "source": [
    "# In Python, following consistent naming conventions is essential for writing readable and maintainable code. The Python community has established a set of conventions outlined in the PEP 8 style guide. Here are some key points regarding variable naming conventions:\n",
    "\n",
    "# 1.Snake Case:\n",
    "\n",
    "# Use snake_case for variable names. Snake case means joining words with underscores and making the entire name lowercase. For example: my_variable, user_age, total_score.\n",
    "# 2.Descriptive Names:\n",
    "\n",
    "# Choose descriptive and meaningful names for variables. A variable name should reflect the purpose or content of the variable. This makes the code more self-explanatory.\n",
    "# 3.Avoid Single-letter Names (in most cases):\n",
    "\n",
    "# Except for simple loop counters or other specific cases, avoid using single-letter variable names. Longer, descriptive names contribute to code readability.\n",
    "# 4.Constants:\n",
    "\n",
    "# Use all uppercase letters for constants. For example: MAX_SIZE, PI. This helps distinguish constants from regular variables.\n",
    "# 5.Avoid Using Underscore as the First Character:\n",
    "\n",
    "# While starting a variable name with an underscore is allowed, it is generally reserved for special cases. For instance, a single leading underscore may indicate that a variable is intended for internal use within a module.\n",
    "# 6.Class Names:\n",
    "\n",
    "# Use CamelCase for class names. For example: MyClass, CarModel. This convention helps distinguish class names from function and variable names.\n",
    "# 7.Function Names:\n",
    "\n",
    "# Use snake_case for function names. Function names should be descriptive and indicate the action or purpose of the function.\n",
    "# 8.Avoid Shadowing Built-in Names:\n",
    "\n",
    "# Avoid using names that are already used as built-in names in Python. This can lead to confusion and unexpected behavior.\n",
    "# Following these conventions improves the overall readability and maintainability of Python code. Adhering to PEP 8 not only makes your code more consistent with the wider Python community but also facilitates collaboration with others and contributes to a more enjoyable development experience.\n"
   ]
  },
  {
   "cell_type": "markdown",
   "id": "ba7103f0-057d-4df2-8145-0b1300bf974d",
   "metadata": {},
   "source": [
    "Q.4. What will happen if a keyword is used as a variable name?"
   ]
  },
  {
   "cell_type": "code",
   "execution_count": 7,
   "id": "9215b410-75c1-4389-8348-ea5d966c37a8",
   "metadata": {},
   "outputs": [],
   "source": [
    "# If you use a Python keyword as a variable name, you will encounter a syntax error. Python keywords are reserved words that have special meanings in the language, and they cannot be used as identifiers (such as variable names, function names, etc.)."
   ]
  },
  {
   "cell_type": "code",
   "execution_count": 8,
   "id": "e144827e-c226-4b7b-92e7-e1a9b512ec6f",
   "metadata": {},
   "outputs": [
    {
     "ename": "SyntaxError",
     "evalue": "invalid syntax (182722112.py, line 1)",
     "output_type": "error",
     "traceback": [
      "\u001b[0;36m  Cell \u001b[0;32mIn [8], line 1\u001b[0;36m\u001b[0m\n\u001b[0;31m    if = 10\u001b[0m\n\u001b[0m       ^\u001b[0m\n\u001b[0;31mSyntaxError\u001b[0m\u001b[0;31m:\u001b[0m invalid syntax\n"
     ]
    }
   ],
   "source": [
    "if = 10"
   ]
  },
  {
   "cell_type": "code",
   "execution_count": 9,
   "id": "37821ad7-47f7-4482-9250-79558bb8acb9",
   "metadata": {},
   "outputs": [],
   "source": [
    "# In this example, attempting to assign the value 10 to a variable named if will raise a syntax error because if is a reserved keyword in Python used for conditional statements.\n",
    "\n",
    "# To avoid such errors, it's important to choose variable names that do not conflict with Python keywords. You can refer to the keyword module to get a list of all keywords and ensure that your variable names do not coincide with them."
   ]
  },
  {
   "cell_type": "markdown",
   "id": "e0a3809b-366d-4c50-a657-83be006e789f",
   "metadata": {},
   "source": [
    "Q.5. For what purpose def keyword is used?"
   ]
  },
  {
   "cell_type": "code",
   "execution_count": 10,
   "id": "c854ace6-7f22-4746-94ec-1267122cfe01",
   "metadata": {},
   "outputs": [],
   "source": [
    "# The def keyword in Python is used to define a function. Functions are blocks of reusable code that perform a specific task. By defining functions, you can organize your code into modular and manageable pieces, making it more readable, maintainable, and easy to reuse.\n",
    "\n",
    "# Here's the basic syntax for defining a function using the def keyword:"
   ]
  },
  {
   "cell_type": "code",
   "execution_count": 11,
   "id": "4d23b7dd-0d18-4570-ad7a-e027140a7460",
   "metadata": {},
   "outputs": [],
   "source": [
    "def function_name(parameters):\n",
    "    return result"
   ]
  },
  {
   "cell_type": "code",
   "execution_count": 12,
   "id": "45397605-60b1-4bc7-9437-43cd459b68cf",
   "metadata": {},
   "outputs": [],
   "source": [
    "# Explanation:\n",
    "\n",
    "# def: This keyword is used to declare the beginning of a function definition.\n",
    "\n",
    "# function_name: This is the name of the function. Choose a descriptive and meaningful name that indicates the purpose of the function.\n",
    "\n",
    "# parameters: These are the input values that the function accepts. Parameters are optional, and a function may have zero or more parameters.\n",
    "\n",
    "# Function Body: This is the indented block of code that defines the actions or computations performed by the function.\n",
    "\n",
    "# return: This keyword is used to specify the value that the function should return. A function may or may not have a return statement. If there is no return statement, the function returns None by default."
   ]
  },
  {
   "cell_type": "code",
   "execution_count": 13,
   "id": "79c62eda-3937-4c6a-8845-cdcdbb5017d6",
   "metadata": {},
   "outputs": [
    {
     "name": "stdout",
     "output_type": "stream",
     "text": [
      "8\n"
     ]
    }
   ],
   "source": [
    "def add_numbers(x, y):\n",
    "    result = x + y\n",
    "    return result\n",
    "\n",
    "sum_result = add_numbers(3, 5)\n",
    "print(sum_result) "
   ]
  },
  {
   "cell_type": "code",
   "execution_count": 14,
   "id": "4fc5174d-489b-4a79-8751-747e41a0e049",
   "metadata": {},
   "outputs": [],
   "source": [
    "# In this example, the add_numbers function takes two parameters (x and y), adds them together, and returns the result. The def keyword is crucial for defining functions in Python."
   ]
  },
  {
   "cell_type": "markdown",
   "id": "f200b2c9-fd63-4c20-afb9-1a67275bc636",
   "metadata": {},
   "source": [
    "Q.6. What is the operation of this special character ‘\\’?"
   ]
  },
  {
   "cell_type": "code",
   "execution_count": 15,
   "id": "0d1b7644-ff4b-4b4c-810b-4d3531431893",
   "metadata": {},
   "outputs": [],
   "source": [
    "# The backslash (\\) character in Python is used as an escape character. It indicates that the character following it has a special meaning. Here are some common uses of the backslash in Python:\n",
    "\n",
    "# 1.Escape Sequences:\n",
    "\n",
    "# The backslash is used to introduce escape sequences in strings. Escape sequences represent characters that are difficult to include directly in a string. For example:"
   ]
  },
  {
   "cell_type": "code",
   "execution_count": 16,
   "id": "84c38536-d111-4b39-b34f-c093928af20e",
   "metadata": {},
   "outputs": [],
   "source": [
    "\n",
    "new_line = \"This is the first line.\\nThis is the second line.\"\n",
    "\n",
    "\n",
    "tabbed = \"This is tabbed.\\tThis is not.\"\n"
   ]
  },
  {
   "cell_type": "code",
   "execution_count": 17,
   "id": "f8c4e13d-a01b-4dcb-b55e-4dbf63550333",
   "metadata": {},
   "outputs": [],
   "source": [
    "# 2.Escape Single and Double Quotes:\n",
    "\n",
    "# The backslash is used to escape single quotes (') and double quotes (\") within strings. This allows you to include quotes as characters within a string that is enclosed by the opposite type of quote:"
   ]
  },
  {
   "cell_type": "code",
   "execution_count": 18,
   "id": "b9cf7007-0149-4499-99ec-178bc03780e0",
   "metadata": {},
   "outputs": [],
   "source": [
    "\n",
    "single_quoted = \"This string contains a single quote (').\"\n",
    "\n",
    "double_quoted = 'This string contains a double quote (\").'\n"
   ]
  },
  {
   "cell_type": "code",
   "execution_count": 19,
   "id": "4f7b5038-de10-4be2-a034-44acbbdd994f",
   "metadata": {},
   "outputs": [],
   "source": [
    "# 3.Backslash at the End of a Line:\n",
    "\n",
    "# The backslash can be used to continue a statement onto the next line. This is useful for improving code readability by breaking long lines into multiple lines:"
   ]
  },
  {
   "cell_type": "code",
   "execution_count": 20,
   "id": "91987fc4-c798-4f8e-8059-95fff22e2ccc",
   "metadata": {},
   "outputs": [],
   "source": [
    "long_line = \"This is a very long line that \\\n",
    "continues onto the next line for better readability.\"\n"
   ]
  },
  {
   "cell_type": "code",
   "execution_count": 21,
   "id": "9195e89b-b71b-4eef-b4f8-40ac3e7e014c",
   "metadata": {},
   "outputs": [],
   "source": [
    "# 4.Raw Strings:\n",
    "\n",
    "# Prefixing a string literal with r or R creates a raw string. In a raw string, backslashes are treated as literal characters and not as escape characters. This is often used when working with regular expressions or file paths:"
   ]
  },
  {
   "cell_type": "code",
   "execution_count": 22,
   "id": "a94e73b6-d7a3-4a6c-a712-006e2fe4a3a7",
   "metadata": {},
   "outputs": [],
   "source": [
    "raw_string = r\"This is a raw string with \\n newline characters.\""
   ]
  },
  {
   "cell_type": "code",
   "execution_count": 23,
   "id": "d1a1751f-cb45-4817-b886-c47f7fcd2c20",
   "metadata": {},
   "outputs": [],
   "source": [
    "# These are some of the common uses of the backslash (\\) in Python, and it plays a crucial role in handling special characters and formatting within strings."
   ]
  },
  {
   "cell_type": "markdown",
   "id": "cd45124e-1d12-42cd-80d2-f02ddcb13174",
   "metadata": {},
   "source": [
    "Q.7. Give an example of the following conditions:\n",
    "(i) Homogeneous list\n",
    "(ii) Heterogeneous set\n",
    "(iii) Homogeneous tuple"
   ]
  },
  {
   "cell_type": "code",
   "execution_count": 24,
   "id": "78ad95cb-8a9e-404e-9c44-706f21090170",
   "metadata": {},
   "outputs": [],
   "source": [
    "# Sure, let's go through examples of a homogeneous list, a heterogeneous set, and a homogeneous tuple.\n",
    "\n",
    "# (i) Homogeneous List:\n",
    "# A homogeneous list is a list where all elements are of the same data type. In this example, I'll create a list of integers:"
   ]
  },
  {
   "cell_type": "code",
   "execution_count": 25,
   "id": "7366f222-a068-475f-916e-9371ebe3bbb4",
   "metadata": {},
   "outputs": [
    {
     "name": "stdout",
     "output_type": "stream",
     "text": [
      "[1, 2, 3, 4, 5]\n"
     ]
    }
   ],
   "source": [
    "homogeneous_list = [1, 2, 3, 4, 5]\n",
    "print(homogeneous_list)"
   ]
  },
  {
   "cell_type": "code",
   "execution_count": 26,
   "id": "fb060581-c5c8-4e7f-ae0a-0142c1114c64",
   "metadata": {},
   "outputs": [],
   "source": [
    "# (ii) Heterogeneous Set:\n",
    "# A heterogeneous set is a set where elements can be of different data types. Here, I'll create a set with elements of different types:"
   ]
  },
  {
   "cell_type": "code",
   "execution_count": 27,
   "id": "f3530e72-347d-43b6-9b8c-8a84237143a3",
   "metadata": {},
   "outputs": [
    {
     "name": "stdout",
     "output_type": "stream",
     "text": [
      "{'apple', 1, 3.14, (1, 2, 3)}\n"
     ]
    }
   ],
   "source": [
    "heterogeneous_set = {1, 'apple', 3.14, (1, 2, 3)}\n",
    "print(heterogeneous_set)"
   ]
  },
  {
   "cell_type": "code",
   "execution_count": 28,
   "id": "e2ecd35f-29df-4501-9c7f-94fbb2997c38",
   "metadata": {},
   "outputs": [],
   "source": [
    "# (iii) Homogeneous Tuple:\n",
    "# A homogeneous tuple is a tuple where all elements are of the same data type. Here's an example of a tuple of strings:"
   ]
  },
  {
   "cell_type": "code",
   "execution_count": 29,
   "id": "378bc22c-272d-43d5-a434-d6baaf2d7d69",
   "metadata": {},
   "outputs": [
    {
     "name": "stdout",
     "output_type": "stream",
     "text": [
      "('apple', 'banana', 'cherry')\n"
     ]
    }
   ],
   "source": [
    "homogeneous_tuple = ('apple', 'banana', 'cherry')\n",
    "print(homogeneous_tuple)"
   ]
  },
  {
   "cell_type": "code",
   "execution_count": 30,
   "id": "c2814b6a-a2b6-493a-ac56-48a3d35c75a9",
   "metadata": {},
   "outputs": [],
   "source": [
    "# These examples illustrate the concepts of homogeneous lists, heterogeneous sets, and homogeneous tuples by using different data types within each data structure."
   ]
  },
  {
   "cell_type": "markdown",
   "id": "5753a404-39cb-451b-98ee-916bb217be4f",
   "metadata": {},
   "source": [
    "Q.8. Explain the mutable and immutable data types with proper explanation & examples."
   ]
  },
  {
   "cell_type": "code",
   "execution_count": 32,
   "id": "4b843ef6-1b12-4f2e-a3cd-7510c1599452",
   "metadata": {},
   "outputs": [],
   "source": [
    "# In Python, data types are classified into two main categories: mutable and immutable. The distinction between mutable and immutable data types is based on whether the value of the object can be changed after it has been created.\n",
    "\n",
    "# Mutable Data Types:\n",
    "\n",
    "# Mutable objects are those whose value or content can be changed after they are created. This means you can modify, add, or remove elements without creating a new object. Examples of mutable data types in Python include lists, dictionaries, and sets."
   ]
  },
  {
   "cell_type": "code",
   "execution_count": 33,
   "id": "7da68ca0-cef2-4cac-b144-4d2430e0dbf2",
   "metadata": {},
   "outputs": [
    {
     "name": "stdout",
     "output_type": "stream",
     "text": [
      "[1, 2, 99, 4]\n",
      "{'key': 'new_value', 'number': 42}\n"
     ]
    }
   ],
   "source": [
    "# Mutable List\n",
    "mutable_list = [1, 2, 3, 4]\n",
    "mutable_list[2] = 99\n",
    "print(mutable_list)  \n",
    "\n",
    "# Mutable Dictionary\n",
    "mutable_dict = {'key': 'value', 'number': 42}\n",
    "mutable_dict['key'] = 'new_value'\n",
    "print(mutable_dict)  \n"
   ]
  },
  {
   "cell_type": "code",
   "execution_count": 34,
   "id": "3345e0bd-1d33-441c-990c-8089831c25d1",
   "metadata": {},
   "outputs": [],
   "source": [
    "# Immutable Data Types:\n",
    "\n",
    "# Immutable objects, on the other hand, cannot be changed after they are created. If you want to modify an immutable object, you have to create a new object. Examples of immutable data types in Python include strings, tuples, and integers."
   ]
  },
  {
   "cell_type": "code",
   "execution_count": 35,
   "id": "bffd6c8a-b7aa-4cf3-ab08-9155ffd6a1fc",
   "metadata": {},
   "outputs": [
    {
     "name": "stdout",
     "output_type": "stream",
     "text": [
      "52\n"
     ]
    }
   ],
   "source": [
    "\n",
    "immutable_string = \"hello\"\n",
    "\n",
    "immutable_tuple = (1, 2, 3)\n",
    "\n",
    "\n",
    "immutable_int = 42\n",
    "\n",
    "new_immutable_int = immutable_int + 10\n",
    "print(new_immutable_int) "
   ]
  },
  {
   "cell_type": "code",
   "execution_count": 36,
   "id": "93bb4713-541f-4712-9214-42dba0201479",
   "metadata": {},
   "outputs": [],
   "source": [
    "# In the examples above, we demonstrate that attempting to modify elements in an immutable object raises an error. Instead, a new object is created when a change is needed.\n",
    "\n",
    "# Understanding the mutability or immutability of data types is important for writing robust and predictable code. Mutable objects can be modified in place, which can have implications for code behavior, especially when dealing with shared references to objects. Immutable objects, on the other hand, are safer in certain contexts as their values cannot be inadvertently changed."
   ]
  },
  {
   "cell_type": "raw",
   "id": "a3e94ff0-12a4-47ea-bb62-9ee4b90627ef",
   "metadata": {},
   "source": [
    "Q.9. Write a code to create the given structure using only for loop.\n",
    "*\n",
    "***\n",
    "*****\n",
    "*******\n",
    "*********"
   ]
  },
  {
   "cell_type": "code",
   "execution_count": 37,
   "id": "58697a90-58dd-4003-8c62-35270e68b491",
   "metadata": {},
   "outputs": [
    {
     "name": "stdout",
     "output_type": "stream",
     "text": [
      "*\n",
      "***\n",
      "*****\n",
      "*******\n",
      "*********\n"
     ]
    }
   ],
   "source": [
    "num_rows = 5\n",
    "for i in range(num_rows):\n",
    "    for j in range(2 * i + 1):\n",
    "        print('*', end='')\n",
    "    print()\n"
   ]
  },
  {
   "cell_type": "code",
   "execution_count": 38,
   "id": "0b896b01-1367-4183-8bf3-00902fba6e15",
   "metadata": {},
   "outputs": [],
   "source": [
    "# Explanation:\n",
    "\n",
    "# The outer loop (for i in range(num_rows)) controls the number of rows in the pattern.\n",
    "# The inner loop (for j in range(2 * i + 1)) controls the number of '' characters to be printed in each row. The expression 2 * i + 1 gives the odd numbers, which represent the number of '' characters in each row.\n",
    "# The print('*', end='') statement prints '*' without moving to the next line, and print() at the end of the outer loop moves to the next line after each row is printed.\n",
    "# This code uses a nested for loop to create the desired pattern with '*' characters"
   ]
  },
  {
   "cell_type": "markdown",
   "id": "b01c9db8-1e74-4972-a3c8-6dd6404d2ff2",
   "metadata": {},
   "source": [
    "Q.10. Write a code to create the given structure using while loop.\n",
    "|||||||||\n",
    "|||||||\n",
    "|||||\n",
    "|||\n",
    "|"
   ]
  },
  {
   "cell_type": "code",
   "execution_count": 39,
   "id": "d3bd5aa9-f09d-4b0a-a524-27d86d317940",
   "metadata": {},
   "outputs": [
    {
     "name": "stdout",
     "output_type": "stream",
     "text": [
      "|||||||\n",
      "|||||\n",
      "|||\n",
      "|\n"
     ]
    }
   ],
   "source": [
    "\n",
    "num_bars = 7\n",
    "while num_bars >= 1:\n",
    "    count = 0\n",
    "    while count < num_bars:\n",
    "        print('|', end='')\n",
    "        count += 1\n",
    "    print()\n",
    "    num_bars -= 2\n"
   ]
  },
  {
   "cell_type": "code",
   "execution_count": 40,
   "id": "be3be1bb-7048-47a9-9e75-6283f9077351",
   "metadata": {},
   "outputs": [],
   "source": [
    "# Explanation:\n",
    "\n",
    "# The outer while loop controls the number of rows in the pattern, and it continues as long as num_bars is greater than or equal to 1.\n",
    "# The inner while loop prints the '|' character in each row, and the loop continues until the count reaches the current value of num_bars.\n",
    "# After each row is printed, the program moves to the next line.\n",
    "# The value of num_bars is decreased by 2 in each iteration of the outer loop to reduce the number of '|' characters for the next row.\n",
    "# This code uses a while loop to create the desired pattern with '|' characters."
   ]
  },
  {
   "cell_type": "code",
   "execution_count": null,
   "id": "c1b8e031-0a5b-40fd-b62e-9cc4cb213f2b",
   "metadata": {},
   "outputs": [],
   "source": []
  }
 ],
 "metadata": {
  "kernelspec": {
   "display_name": "Python 3 (ipykernel)",
   "language": "python",
   "name": "python3"
  },
  "language_info": {
   "codemirror_mode": {
    "name": "ipython",
    "version": 3
   },
   "file_extension": ".py",
   "mimetype": "text/x-python",
   "name": "python",
   "nbconvert_exporter": "python",
   "pygments_lexer": "ipython3",
   "version": "3.10.6"
  }
 },
 "nbformat": 4,
 "nbformat_minor": 5
}
